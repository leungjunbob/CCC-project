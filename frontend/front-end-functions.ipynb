{
 "cells": [
  {
   "cell_type": "markdown",
   "id": "abcae4b6",
   "metadata": {},
   "source": [
    "# Install Necessary Packages"
   ]
  },
  {
   "cell_type": "code",
   "execution_count": 1,
   "id": "eab39047",
   "metadata": {},
   "outputs": [
    {
     "name": "stdout",
     "output_type": "stream",
     "text": [
      "Requirement already satisfied: ipywidgets in c:\\users\\bough\\appdata\\local\\programs\\python\\python38\\lib\\site-packages (8.1.7)\n",
      "Requirement already satisfied: requests in c:\\users\\bough\\appdata\\local\\programs\\python\\python38\\lib\\site-packages (2.31.0)\n",
      "Requirement already satisfied: pandas in c:\\users\\bough\\appdata\\local\\programs\\python\\python38\\lib\\site-packages (2.0.3)\n",
      "Requirement already satisfied: matplotlib in c:\\users\\bough\\appdata\\local\\programs\\python\\python38\\lib\\site-packages (3.7.5)\n",
      "Requirement already satisfied: plotly in c:\\users\\bough\\appdata\\local\\programs\\python\\python38\\lib\\site-packages (5.18.0)\n",
      "Requirement already satisfied: wordcloud in c:\\users\\bough\\appdata\\local\\programs\\python\\python38\\lib\\site-packages (1.9.4)\n",
      "Requirement already satisfied: comm>=0.1.3 in c:\\users\\bough\\appdata\\local\\programs\\python\\python38\\lib\\site-packages (from ipywidgets) (0.2.2)\n",
      "Requirement already satisfied: ipython>=6.1.0 in c:\\users\\bough\\appdata\\local\\programs\\python\\python38\\lib\\site-packages (from ipywidgets) (8.12.3)\n",
      "Requirement already satisfied: traitlets>=4.3.1 in c:\\users\\bough\\appdata\\local\\programs\\python\\python38\\lib\\site-packages (from ipywidgets) (5.14.2)\n",
      "Requirement already satisfied: widgetsnbextension~=4.0.14 in c:\\users\\bough\\appdata\\local\\programs\\python\\python38\\lib\\site-packages (from ipywidgets) (4.0.14)\n",
      "Requirement already satisfied: jupyterlab_widgets~=3.0.15 in c:\\users\\bough\\appdata\\local\\programs\\python\\python38\\lib\\site-packages (from ipywidgets) (3.0.15)\n",
      "Requirement already satisfied: charset-normalizer<4,>=2 in c:\\users\\bough\\appdata\\local\\programs\\python\\python38\\lib\\site-packages (from requests) (3.3.2)\n",
      "Requirement already satisfied: idna<4,>=2.5 in c:\\users\\bough\\appdata\\local\\programs\\python\\python38\\lib\\site-packages (from requests) (3.6)\n",
      "Requirement already satisfied: urllib3<3,>=1.21.1 in c:\\users\\bough\\appdata\\local\\programs\\python\\python38\\lib\\site-packages (from requests) (2.2.1)\n",
      "Requirement already satisfied: certifi>=2017.4.17 in c:\\users\\bough\\appdata\\local\\programs\\python\\python38\\lib\\site-packages (from requests) (2024.2.2)\n",
      "Requirement already satisfied: python-dateutil>=2.8.2 in c:\\users\\bough\\appdata\\local\\programs\\python\\python38\\lib\\site-packages (from pandas) (2.9.0.post0)\n",
      "Requirement already satisfied: pytz>=2020.1 in c:\\users\\bough\\appdata\\local\\programs\\python\\python38\\lib\\site-packages (from pandas) (2024.1)\n",
      "Requirement already satisfied: tzdata>=2022.1 in c:\\users\\bough\\appdata\\local\\programs\\python\\python38\\lib\\site-packages (from pandas) (2024.1)\n",
      "Requirement already satisfied: numpy>=1.20.3 in c:\\users\\bough\\appdata\\local\\programs\\python\\python38\\lib\\site-packages (from pandas) (1.23.5)\n",
      "Requirement already satisfied: contourpy>=1.0.1 in c:\\users\\bough\\appdata\\local\\programs\\python\\python38\\lib\\site-packages (from matplotlib) (1.1.1)\n",
      "Requirement already satisfied: cycler>=0.10 in c:\\users\\bough\\appdata\\local\\programs\\python\\python38\\lib\\site-packages (from matplotlib) (0.12.1)\n",
      "Requirement already satisfied: fonttools>=4.22.0 in c:\\users\\bough\\appdata\\local\\programs\\python\\python38\\lib\\site-packages (from matplotlib) (4.50.0)\n",
      "Requirement already satisfied: kiwisolver>=1.0.1 in c:\\users\\bough\\appdata\\local\\programs\\python\\python38\\lib\\site-packages (from matplotlib) (1.4.5)\n",
      "Requirement already satisfied: packaging>=20.0 in c:\\users\\bough\\appdata\\local\\programs\\python\\python38\\lib\\site-packages (from matplotlib) (24.0)\n",
      "Requirement already satisfied: pillow>=6.2.0 in c:\\users\\bough\\appdata\\local\\programs\\python\\python38\\lib\\site-packages (from matplotlib) (10.3.0)\n",
      "Requirement already satisfied: pyparsing>=2.3.1 in c:\\users\\bough\\appdata\\local\\programs\\python\\python38\\lib\\site-packages (from matplotlib) (3.1.2)\n",
      "Requirement already satisfied: importlib-resources>=3.2.0 in c:\\users\\bough\\appdata\\local\\programs\\python\\python38\\lib\\site-packages (from matplotlib) (6.4.0)\n",
      "Requirement already satisfied: tenacity>=6.2.0 in c:\\users\\bough\\appdata\\local\\programs\\python\\python38\\lib\\site-packages (from plotly) (9.0.0)\n",
      "Requirement already satisfied: zipp>=3.1.0 in c:\\users\\bough\\appdata\\local\\programs\\python\\python38\\lib\\site-packages (from importlib-resources>=3.2.0->matplotlib) (3.18.1)\n",
      "Requirement already satisfied: backcall in c:\\users\\bough\\appdata\\local\\programs\\python\\python38\\lib\\site-packages (from ipython>=6.1.0->ipywidgets) (0.2.0)\n",
      "Requirement already satisfied: decorator in c:\\users\\bough\\appdata\\local\\programs\\python\\python38\\lib\\site-packages (from ipython>=6.1.0->ipywidgets) (5.1.1)\n",
      "Requirement already satisfied: jedi>=0.16 in c:\\users\\bough\\appdata\\local\\programs\\python\\python38\\lib\\site-packages (from ipython>=6.1.0->ipywidgets) (0.19.1)\n",
      "Requirement already satisfied: matplotlib-inline in c:\\users\\bough\\appdata\\local\\programs\\python\\python38\\lib\\site-packages (from ipython>=6.1.0->ipywidgets) (0.1.6)\n",
      "Requirement already satisfied: pickleshare in c:\\users\\bough\\appdata\\local\\programs\\python\\python38\\lib\\site-packages (from ipython>=6.1.0->ipywidgets) (0.7.5)\n",
      "Requirement already satisfied: prompt-toolkit!=3.0.37,<3.1.0,>=3.0.30 in c:\\users\\bough\\appdata\\local\\programs\\python\\python38\\lib\\site-packages (from ipython>=6.1.0->ipywidgets) (3.0.43)\n",
      "Requirement already satisfied: pygments>=2.4.0 in c:\\users\\bough\\appdata\\local\\programs\\python\\python38\\lib\\site-packages (from ipython>=6.1.0->ipywidgets) (2.17.2)\n",
      "Requirement already satisfied: stack-data in c:\\users\\bough\\appdata\\local\\programs\\python\\python38\\lib\\site-packages (from ipython>=6.1.0->ipywidgets) (0.6.3)\n",
      "Requirement already satisfied: typing-extensions in c:\\users\\bough\\appdata\\local\\programs\\python\\python38\\lib\\site-packages (from ipython>=6.1.0->ipywidgets) (4.13.2)\n",
      "Requirement already satisfied: colorama in c:\\users\\bough\\appdata\\local\\programs\\python\\python38\\lib\\site-packages (from ipython>=6.1.0->ipywidgets) (0.4.6)\n",
      "Requirement already satisfied: six>=1.5 in c:\\users\\bough\\appdata\\local\\programs\\python\\python38\\lib\\site-packages (from python-dateutil>=2.8.2->pandas) (1.16.0)\n",
      "Requirement already satisfied: parso<0.9.0,>=0.8.3 in c:\\users\\bough\\appdata\\local\\programs\\python\\python38\\lib\\site-packages (from jedi>=0.16->ipython>=6.1.0->ipywidgets) (0.8.3)\n",
      "Requirement already satisfied: wcwidth in c:\\users\\bough\\appdata\\local\\programs\\python\\python38\\lib\\site-packages (from prompt-toolkit!=3.0.37,<3.1.0,>=3.0.30->ipython>=6.1.0->ipywidgets) (0.2.13)\n",
      "Requirement already satisfied: executing>=1.2.0 in c:\\users\\bough\\appdata\\local\\programs\\python\\python38\\lib\\site-packages (from stack-data->ipython>=6.1.0->ipywidgets) (2.0.1)\n",
      "Requirement already satisfied: asttokens>=2.1.0 in c:\\users\\bough\\appdata\\local\\programs\\python\\python38\\lib\\site-packages (from stack-data->ipython>=6.1.0->ipywidgets) (2.4.1)\n",
      "Requirement already satisfied: pure-eval in c:\\users\\bough\\appdata\\local\\programs\\python\\python38\\lib\\site-packages (from stack-data->ipython>=6.1.0->ipywidgets) (0.2.2)\n"
     ]
    },
    {
     "name": "stderr",
     "output_type": "stream",
     "text": [
      "WARNING: Ignoring invalid distribution -otebook (c:\\users\\bough\\appdata\\local\\programs\\python\\python38\\lib\\site-packages)\n",
      "WARNING: Ignoring invalid distribution -rotobuf (c:\\users\\bough\\appdata\\local\\programs\\python\\python38\\lib\\site-packages)\n",
      "WARNING: Ignoring invalid distribution -otebook (c:\\users\\bough\\appdata\\local\\programs\\python\\python38\\lib\\site-packages)\n",
      "WARNING: Ignoring invalid distribution -rotobuf (c:\\users\\bough\\appdata\\local\\programs\\python\\python38\\lib\\site-packages)\n",
      "WARNING: Ignoring invalid distribution -otebook (c:\\users\\bough\\appdata\\local\\programs\\python\\python38\\lib\\site-packages)\n",
      "WARNING: Ignoring invalid distribution -rotobuf (c:\\users\\bough\\appdata\\local\\programs\\python\\python38\\lib\\site-packages)\n"
     ]
    }
   ],
   "source": [
    "# Install all required packages\n",
    "!pip install ipywidgets requests pandas matplotlib plotly wordcloud"
   ]
  },
  {
   "cell_type": "markdown",
   "id": "6b00ddc4",
   "metadata": {},
   "source": [
    "# Load Packages"
   ]
  },
  {
   "cell_type": "code",
   "execution_count": 2,
   "id": "be46706f",
   "metadata": {},
   "outputs": [],
   "source": [
    "import ipywidgets as widgets\n",
    "from IPython.display import display, clear_output\n",
    "from collections import defaultdict\n",
    "import requests\n",
    "import json\n",
    "import datetime\n",
    "import matplotlib.pyplot as plt\n",
    "from matplotlib.dates import AutoDateLocator\n",
    "import pandas as pd\n",
    "from wordcloud import WordCloud"
   ]
  },
  {
   "cell_type": "markdown",
   "id": "08b3349f",
   "metadata": {},
   "source": [
    "# Backend APIs\n"
   ]
  },
  {
   "cell_type": "code",
   "execution_count": null,
   "id": "34b21e88",
   "metadata": {},
   "outputs": [],
   "source": [
    "API_collect = \"http://backend-service.backend.svc.cluster.local:5000/api/collect\"  # Need to be replaced\n",
    "API_search = \"http://backend-service.backend.svc.cluster.local:5000/api/run\"  # Need to be replaced"
   ]
  },
  {
   "cell_type": "markdown",
   "id": "87f42ae7",
   "metadata": {},
   "source": [
    "# Collect Data by Selected Platform"
   ]
  },
  {
   "cell_type": "code",
   "execution_count": 4,
   "id": "b3d7da24",
   "metadata": {
    "code_folding": []
   },
   "outputs": [
    {
     "data": {
      "application/vnd.jupyter.widget-view+json": {
       "model_id": "3261d02dd2234f66a5b83f5897871759",
       "version_major": 2,
       "version_minor": 0
      },
      "text/plain": [
       "Text(value='weather', description='Keyword:', placeholder='Area of interest')"
      ]
     },
     "metadata": {},
     "output_type": "display_data"
    },
    {
     "data": {
      "application/vnd.jupyter.widget-view+json": {
       "model_id": "c695f4c6bae24ff6874f5d8ef22b417d",
       "version_major": 2,
       "version_minor": 0
      },
      "text/plain": [
       "SelectMultiple(description='Social Media:', index=(0, 1, 2), options=('mastodon', 'reddit', 'bluesky'), value=…"
      ]
     },
     "metadata": {},
     "output_type": "display_data"
    },
    {
     "data": {
      "application/vnd.jupyter.widget-view+json": {
       "model_id": "918ab5629cec44a5b8eba7c9b42a1977",
       "version_major": 2,
       "version_minor": 0
      },
      "text/plain": [
       "Button(description='Run!', style=ButtonStyle())"
      ]
     },
     "metadata": {},
     "output_type": "display_data"
    }
   ],
   "source": [
    "def on_run_clicked_collect(btn):\n",
    "    clear_output(wait=True)\n",
    "    display(keyword, platforms, btn)\n",
    "\n",
    "    payload = {\n",
    "        \"keyword\": keyword.value,\n",
    "        \"platform\": list(platforms.value)\n",
    "    }\n",
    "    print(\"🔘 Button was clicked!\")\n",
    "#     print(\"Running\")\n",
    "    try:\n",
    "        resq = requests.post(API_collect, json=payload)\n",
    "#         print(\"Status Code:\", resq.status_code)\n",
    "#         print(\"Raw Response Body:\", repr(resq.text))\n",
    "        print(\"Successed\")\n",
    "    except requests.exceptions.RequestException as e:\n",
    "        print(\"Failed\", e)\n",
    "\n",
    "# Input text box\n",
    "keyword = widgets.Text(\n",
    "    value = 'weather',\n",
    "    description='Keyword:',\n",
    "    placeholder='Area of interest'\n",
    ")\n",
    "\n",
    "# Multi-selection for social media platforms:\n",
    "platforms = widgets.SelectMultiple(\n",
    "    options=['mastodon','reddit','bluesky'],\n",
    "    value=['mastodon','reddit','bluesky'],\n",
    "    description='Social Media:'\n",
    ")\n",
    "\n",
    "# Excecute button\n",
    "run_btn_collect = widgets.Button(description='Run!')\n",
    "\n",
    "# Capture the status\n",
    "display(keyword, platforms, run_btn_collect)\n",
    "run_btn_collect.on_click(on_run_clicked_collect)"
   ]
  },
  {
   "cell_type": "markdown",
   "id": "14e45fb4",
   "metadata": {},
   "source": [
    "# Function for Chart Plot"
   ]
  },
  {
   "cell_type": "code",
   "execution_count": 5,
   "id": "9cb88514",
   "metadata": {},
   "outputs": [],
   "source": [
    "# Default results for test\n",
    "default_result = {\n",
    "    \"labels\": [\"A\", \"B\", \"C\", \"A\", \"B\", \"C\",\"A\", \"B\", \"C\",\"A\", \"B\", \"C\"],\n",
    "    \"times\": [\"2025-01-01\", \"2025-01-02\", \"2025-01-03\", \"2025-01-04\", \"2025-01-05\", \"2025-01-06\",\"2025-01-07\", \"2025-01-08\", \"2025-01-09\", \"2025-01-10\", \"2025-01-11\", \"2025-01-12\"],\n",
    "    \"values\": [10, 40, 30, 10, 40, 30, 10, 40, 30, 10, 40, 30]\n",
    "}"
   ]
  },
  {
   "cell_type": "code",
   "execution_count": 6,
   "id": "5ac5af9b",
   "metadata": {},
   "outputs": [],
   "source": [
    "# Accumulate value for same label\n",
    "def acc_same_label(labels, values):\n",
    "    acc = defaultdict(float)\n",
    "    for label, value in zip(labels, values):\n",
    "        acc[label] += value \n",
    "    labels = acc.keys()\n",
    "    values = acc.values()\n",
    "    return labels, values"
   ]
  },
  {
   "cell_type": "markdown",
   "id": "692ff8eb",
   "metadata": {},
   "source": [
    "## Line Chart"
   ]
  },
  {
   "cell_type": "code",
   "execution_count": 7,
   "id": "9700cb28",
   "metadata": {
    "code_folding": []
   },
   "outputs": [],
   "source": [
    "# Line chart\n",
    "def plot_line(result=default_result, title=\"Line chart\", keyword=\"AI\"):\n",
    "    times = result.get('times', [])\n",
    "    values = result.get('values', [])\n",
    "    if len(times) == 0 or len(values) == 0:\n",
    "        print(\"Not valid\")\n",
    "        return\n",
    "    times = pd.to_datetime(times)\n",
    "    fig, ax = plt.subplots(figsize=(8, 4))\n",
    "    ax.plot(times, values)\n",
    "    locator = AutoDateLocator(maxticks=6)\n",
    "    ax.xaxis.set_major_locator(locator)\n",
    "    ax.set_xlabel(\"Time\")\n",
    "    ax.set_ylabel(\"Value\")\n",
    "    ax.set_title(title)\n",
    "    fig.autofmt_xdate(rotation=45, ha='right')\n",
    "    plt.show()"
   ]
  },
  {
   "cell_type": "code",
   "execution_count": 8,
   "id": "1c205073",
   "metadata": {},
   "outputs": [],
   "source": [
    "# Specific Line chart for topic1\n",
    "def plot_line_topic1(result=default_result, title=\"Hourly Posting Trend\", keyword=\"AI\"):\n",
    "    plt.figure(figsize=(10, 5))\n",
    "    result[\"Weekday\"].plot(label=\"Weekday\", marker=\"o\", linewidth=2)\n",
    "    result[\"Weekend\"].plot(label=\"Weekend\", marker=\"s\", linewidth=2)\n",
    "\n",
    "    plt.title(f\"Hourly Posting Trend for Tag '{keyword.upper()}' (Weekday vs Weekend)\")\n",
    "    plt.xlabel(\"Hour of Day\")\n",
    "    plt.ylabel(\"Average Posts\")\n",
    "    plt.xticks(range(0, 24))\n",
    "    plt.legend()\n",
    "    plt.grid(alpha=0.3)\n",
    "    plt.tight_layout()\n",
    "    plt.show()"
   ]
  },
  {
   "cell_type": "markdown",
   "id": "109b18da",
   "metadata": {},
   "source": [
    "## Bar Chart"
   ]
  },
  {
   "cell_type": "code",
   "execution_count": 9,
   "id": "cc81089e",
   "metadata": {},
   "outputs": [],
   "source": [
    "# Bar chart\n",
    "def plot_bar(result=default_result, title=\"Bar Chart\", keyword=\"AI\"):\n",
    "    labels = result.get('labels', [])\n",
    "    values = result.get('values', [])\n",
    "    if len(labels) == 0 or len(values) == 0:\n",
    "        print(\"Not valid\")\n",
    "        return\n",
    "    labels, values = acc_same_label(labels, values)\n",
    "    plt.figure()\n",
    "    plt.bar(labels, values)\n",
    "    plt.xticks(rotation=45, ha=\"right\")\n",
    "    plt.xlabel(\"Category\")\n",
    "    plt.ylabel(\"Value\")\n",
    "    plt.title(title)\n",
    "    plt.show()"
   ]
  },
  {
   "cell_type": "markdown",
   "id": "af16b5f0",
   "metadata": {},
   "source": [
    "## Pie Chart"
   ]
  },
  {
   "cell_type": "code",
   "execution_count": 10,
   "id": "d72066b8",
   "metadata": {},
   "outputs": [],
   "source": [
    "# Pie chart\n",
    "def plot_pie(result=default_result, title=\"Pie chart\", keyword=\"AI\"):\n",
    "    labels = result.get('labels', [])\n",
    "    values = result.get('values', [])\n",
    "    if len(labels) == 0 or len(values) == 0:\n",
    "        print(\"Not valid\")\n",
    "        return\n",
    "    labels, values = acc_same_label(labels, values)\n",
    "    plt.figure()\n",
    "    plt.pie(values, labels=labels, autopct='%1.1f%%')\n",
    "    plt.title(title)\n",
    "    plt.show()"
   ]
  },
  {
   "cell_type": "markdown",
   "id": "82b1a7ef",
   "metadata": {},
   "source": [
    "## Word Cloud"
   ]
  },
  {
   "cell_type": "code",
   "execution_count": 11,
   "id": "8ed5c313",
   "metadata": {},
   "outputs": [],
   "source": [
    "# Cloud chart\n",
    "def plot_cloud(result=default_result, title=\"Word Cloud\", keyword=\"AI\"):\n",
    "    labels = result.get('labels', [])\n",
    "    values = result.get('values', [])\n",
    "    if len(labels) == 0 or len(values) == 0:\n",
    "        print(\"Not valid\")\n",
    "        return\n",
    "    labels, values = acc_same_label(labels, values)\n",
    "    freq = dict(zip(labels, values))\n",
    "    wc = WordCloud(\n",
    "        width=800,\n",
    "        height=400,\n",
    "        background_color='white'\n",
    "    )\n",
    "    wc.generate_from_frequencies(freq)\n",
    "    plt.figure(figsize=(10, 5))\n",
    "    plt.imshow(wc, interpolation='bilinear')\n",
    "    plt.axis('off')\n",
    "    plt.title(title)\n",
    "    plt.show()"
   ]
  },
  {
   "cell_type": "markdown",
   "id": "4c8f94d1",
   "metadata": {},
   "source": [
    "## Chart Dispatch"
   ]
  },
  {
   "cell_type": "code",
   "execution_count": 12,
   "id": "725558de",
   "metadata": {},
   "outputs": [],
   "source": [
    "# chart dispatch     \n",
    "chart_dispatch = {\n",
    "    \"line\": plot_line,\n",
    "    \"bar\": plot_bar,\n",
    "    \"pie\": plot_pie,\n",
    "    \"word cloud\": plot_cloud,\n",
    "    \"topic1_line\": plot_line_topic1\n",
    "}"
   ]
  },
  {
   "cell_type": "markdown",
   "id": "aa7b5417",
   "metadata": {},
   "source": [
    "# Topic Research and Result Display"
   ]
  },
  {
   "cell_type": "markdown",
   "id": "ee570529",
   "metadata": {},
   "source": [
    "## Keyword Text Box"
   ]
  },
  {
   "cell_type": "code",
   "execution_count": 13,
   "id": "fae35626",
   "metadata": {},
   "outputs": [],
   "source": [
    "# Input text box\n",
    "keyword = widgets.Text(\n",
    "    value = 'ai',\n",
    "    description='Keyword'\n",
    ")"
   ]
  },
  {
   "cell_type": "markdown",
   "id": "afb1d942",
   "metadata": {},
   "source": [
    "## Topic Single Selection"
   ]
  },
  {
   "cell_type": "code",
   "execution_count": 14,
   "id": "cbe6c044",
   "metadata": {},
   "outputs": [],
   "source": [
    "# Single-selection for topics:\n",
    "topics = widgets.Select(\n",
    "    options=['topic1: User post count',\n",
    "             'topic2: Cross-analysis of AI and other topics',\n",
    "             'topic3: AI topic popularity analysis',\n",
    "             'topic4: Sentiment analysis across time'],\n",
    "    value='topic1: User post count',\n",
    "    description='Topics',\n",
    "    layout=widgets.Layout(width='700px', height='120px')\n",
    ")\n",
    "\n",
    "# Respond to topic selection changeing\n",
    "def on_topic_change(change):\n",
    "    topic = change['new']\n",
    "    if topic == 'topic1: User post count':\n",
    "        databases.value = ['mastodon_ai_cleaned']\n",
    "        checkbox.value=False\n",
    "        chart_types.options=['topic1_line']\n",
    "        chart_types.value=['topic1_line']\n",
    "    elif topic == 'topic2: Cross-analysis of AI and other topics':\n",
    "        databases.value = ['mastodon_ai_cleaned']\n",
    "        checkbox.value=True\n",
    "        chart_types.options=['bar', 'word cloud']\n",
    "        chart_types.value=['bar', 'word cloud']\n",
    "    elif topic == 'topic3: AI topic popularity analysis':\n",
    "        databases.value = ['mastodon_ai_cleaned']\n",
    "        checkbox.value=False\n",
    "        chart_types.options=['line']\n",
    "        chart_types.value=['line']\n",
    "    elif topic == 'topic4: Sentiment analysis across time':\n",
    "        databases.value = ['mastodon_ai_cleaned']\n",
    "        checkbox.value=True\n",
    "        chart_types.options=['line', 'pie']\n",
    "        chart_types.value=['line', 'pie']\n",
    "    clear_output(wait=True)\n",
    "    custom_display()\n",
    "    \n",
    "topics.observe(on_topic_change, names='value')"
   ]
  },
  {
   "cell_type": "markdown",
   "id": "f54d9401",
   "metadata": {},
   "source": [
    "## Database Multi-Selection"
   ]
  },
  {
   "cell_type": "code",
   "execution_count": 15,
   "id": "deb26131",
   "metadata": {},
   "outputs": [],
   "source": [
    "# Multi-selection for social media databases:\n",
    "databases = widgets.SelectMultiple(\n",
    "    options=['mastodon_ai','mastodon_public','mastodon_weather', 'mastodon_ai_cleaned', 'reddit_public', 'reddit_public_cleaned'],\n",
    "    value=['mastodon_ai_cleaned'],\n",
    "    description='Database',\n",
    "    layout=widgets.Layout(width='700px', height='120px')\n",
    ")"
   ]
  },
  {
   "cell_type": "markdown",
   "id": "f9c06469",
   "metadata": {},
   "source": [
    "## Chart Type Multi-Selection"
   ]
  },
  {
   "cell_type": "code",
   "execution_count": 16,
   "id": "f028af12",
   "metadata": {},
   "outputs": [],
   "source": [
    "# multi-selection for types of charts:\n",
    "chart_types = widgets.SelectMultiple(\n",
    "    options=['topic1_line'],\n",
    "    value=['topic1_line'],\n",
    "    description='charts',\n",
    "    layout=widgets.Layout(width='350px', height='120px')\n",
    ")"
   ]
  },
  {
   "cell_type": "markdown",
   "id": "15ca572d",
   "metadata": {},
   "source": [
    "## Multi-Chart Display Checkbox"
   ]
  },
  {
   "cell_type": "code",
   "execution_count": 17,
   "id": "022eead5",
   "metadata": {},
   "outputs": [],
   "source": [
    "# Checkbox for allowing multi-graph display\n",
    "checkbox = widgets.Checkbox(\n",
    "    value=False,\n",
    "    description='Multi-graph display',\n",
    "    disabled=False,\n",
    "    indent=False,\n",
    "    layout=widgets.Layout(width='350px', height='120px')\n",
    ")\n",
    "\n",
    "# Horizontal box for chart option display\n",
    "hbox_chart = widgets.HBox([chart_types, checkbox])"
   ]
  },
  {
   "cell_type": "markdown",
   "id": "c1ca8316",
   "metadata": {},
   "source": [
    "## Start Time & End Time Date Picker"
   ]
  },
  {
   "cell_type": "code",
   "execution_count": 18,
   "id": "3095d929",
   "metadata": {},
   "outputs": [],
   "source": [
    "# Time range\n",
    "start_time = widgets.DatePicker(\n",
    "    description='Start Date',\n",
    "    value=datetime.date(2025, 1, 1),\n",
    "    layout=widgets.Layout(width='700px', height='30px'))\n",
    "\n",
    "end_time = widgets.DatePicker(\n",
    "    description='End Date',\n",
    "    value=datetime.date(2025, 5, 10),\n",
    "    layout=widgets.Layout(width='700px', height='30px'))"
   ]
  },
  {
   "cell_type": "markdown",
   "id": "537d331d",
   "metadata": {},
   "source": [
    "## Search & Plot button"
   ]
  },
  {
   "cell_type": "code",
   "execution_count": 19,
   "id": "3798809a",
   "metadata": {},
   "outputs": [],
   "source": [
    "# Excecute button\n",
    "run_btn_search = widgets.Button(description='Search!', layout=widgets.Layout(width='350px', height='30px'))\n",
    "run_btn_display = widgets.Button(description='Display!', layout=widgets.Layout(width='350px', height='30px'))\n",
    "# Horizontal box for button display\n",
    "hbox_button = widgets.HBox([run_btn_search, run_btn_display])"
   ]
  },
  {
   "cell_type": "markdown",
   "id": "d804789b",
   "metadata": {},
   "source": [
    "## Custom UI Display"
   ]
  },
  {
   "cell_type": "code",
   "execution_count": 20,
   "id": "1a6c56c1",
   "metadata": {},
   "outputs": [],
   "source": [
    "def custom_display():\n",
    "    clear_output(wait=True)\n",
    "    if topics.value == 'topic1: User post count' or topics.value == 'topic4: Sentiment analysis across time':\n",
    "        clear_output(wait=True)\n",
    "        display(topics, keyword, databases, hbox_chart, start_time, end_time, hbox_button)\n",
    "    else:\n",
    "        display(topics, databases, hbox_chart, start_time, end_time, hbox_button)"
   ]
  },
  {
   "cell_type": "markdown",
   "id": "7eccda6e",
   "metadata": {},
   "source": [
    "## Clip Data by Time"
   ]
  },
  {
   "cell_type": "code",
   "execution_count": 21,
   "id": "3b30e59a",
   "metadata": {
    "code_folding": []
   },
   "outputs": [],
   "source": [
    "def clipped_result(result):\n",
    "    df = pd.DataFrame(result)\n",
    "    df['times'] = pd.to_datetime(df['times']).dt.date\n",
    "    mask  = df[\"times\"].between(start_time.value, end_time.value)\n",
    "    df    = df.loc[mask]\n",
    "    return df"
   ]
  },
  {
   "cell_type": "markdown",
   "id": "1b54513f",
   "metadata": {},
   "source": [
    "## Search & Plot Logic"
   ]
  },
  {
   "cell_type": "code",
   "execution_count": 22,
   "id": "e0e34279",
   "metadata": {
    "code_folding": []
   },
   "outputs": [
    {
     "data": {
      "application/vnd.jupyter.widget-view+json": {
       "model_id": "55af7883891f4f7a90da9dfc95e9c1d0",
       "version_major": 2,
       "version_minor": 0
      },
      "text/plain": [
       "Select(description='Topics', layout=Layout(height='120px', width='700px'), options=('topic1: User post count',…"
      ]
     },
     "metadata": {},
     "output_type": "display_data"
    },
    {
     "data": {
      "application/vnd.jupyter.widget-view+json": {
       "model_id": "8ecf5c1e2eb04950b1ffaca535d91e93",
       "version_major": 2,
       "version_minor": 0
      },
      "text/plain": [
       "Text(value='ai', description='Keyword')"
      ]
     },
     "metadata": {},
     "output_type": "display_data"
    },
    {
     "data": {
      "application/vnd.jupyter.widget-view+json": {
       "model_id": "49c106c3db294f838b4e4a0d99847787",
       "version_major": 2,
       "version_minor": 0
      },
      "text/plain": [
       "SelectMultiple(description='Database', index=(3,), layout=Layout(height='120px', width='700px'), options=('mas…"
      ]
     },
     "metadata": {},
     "output_type": "display_data"
    },
    {
     "data": {
      "application/vnd.jupyter.widget-view+json": {
       "model_id": "1952db674e054b5daacc52083271f879",
       "version_major": 2,
       "version_minor": 0
      },
      "text/plain": [
       "HBox(children=(SelectMultiple(description='charts', index=(0,), layout=Layout(height='120px', width='350px'), …"
      ]
     },
     "metadata": {},
     "output_type": "display_data"
    },
    {
     "data": {
      "application/vnd.jupyter.widget-view+json": {
       "model_id": "94b78091f91c4495a4830e88b1b46d62",
       "version_major": 2,
       "version_minor": 0
      },
      "text/plain": [
       "DatePicker(value=datetime.date(2025, 1, 1), description='Start Date', layout=Layout(height='30px', width='700p…"
      ]
     },
     "metadata": {},
     "output_type": "display_data"
    },
    {
     "data": {
      "application/vnd.jupyter.widget-view+json": {
       "model_id": "8a23bfb558914f13b4b3459d6de8eb7f",
       "version_major": 2,
       "version_minor": 0
      },
      "text/plain": [
       "DatePicker(value=datetime.date(2025, 5, 10), description='End Date', layout=Layout(height='30px', width='700px…"
      ]
     },
     "metadata": {},
     "output_type": "display_data"
    },
    {
     "data": {
      "application/vnd.jupyter.widget-view+json": {
       "model_id": "7426f2c68e1a487bbc47311193ba20a6",
       "version_major": 2,
       "version_minor": 0
      },
      "text/plain": [
       "HBox(children=(Button(description='Search!', layout=Layout(height='30px', width='350px'), style=ButtonStyle())…"
      ]
     },
     "metadata": {},
     "output_type": "display_data"
    },
    {
     "name": "stdout",
     "output_type": "stream",
     "text": [
      "🔘 Button was clicked!\n",
      "runing\n",
      "Failed HTTPConnectionPool(host='localhost', port=5000): Max retries exceeded with url: /api/run (Caused by NewConnectionError('<urllib3.connection.HTTPConnection object at 0x000001CE24E825E0>: Failed to establish a new connection: [WinError 10061] No connection could be made because the target machine actively refused it'))\n"
     ]
    }
   ],
   "source": [
    "# Initialize result with a default result\n",
    "result = default_result\n",
    "# To store the results\n",
    "result1 = result2 = result3 = result4 = default_result\n",
    "\n",
    "def on_run_clicked_search(btn):\n",
    "    clear_output(wait=True)\n",
    "    custom_display()\n",
    "    global result, result1, result2, result3, result4\n",
    "    \n",
    "    payload = {\n",
    "        \"topic\": topics.value,\n",
    "        \"database\": list(databases.value),\n",
    "        \"start_time\": str(start_time.value),\n",
    "        \"end_time\": str(end_time.value)\n",
    "    }\n",
    "    topic = topics.value\n",
    "    if topic == 'topic1: User post count' or topic == 'topic4: Sentiment analysis across time':\n",
    "        payload[\"keyword\"] = keyword.value\n",
    "    print(\"🔘 Button was clicked!\")\n",
    "    try:\n",
    "        print(\"runing\")\n",
    "        resq = requests.post(API_search, json=payload)\n",
    "#         print(\"Status Code:\", resq.status_code)\n",
    "#         print(\"Raw Response Body:\", repr(resq.text))\n",
    "        resq.raise_for_status()\n",
    "        result = resq.json()\n",
    "        print(\"Successed\")\n",
    "        print(result)\n",
    "        if topics.value == 'topic1: User post count':\n",
    "            result1 = result['result']\n",
    "        elif topics.value == 'topic2: Cross-analysis of AI and other topics':\n",
    "            result2 = result['result']\n",
    "        elif topics.value == 'topic3: AI topic popularity analysis':\n",
    "            result3 = result['result']\n",
    "        elif topics.value == 'topic4: Sentiment analysis across time':\n",
    "            result4 = result['result']\n",
    "    except requests.exceptions.RequestException as e:\n",
    "        result = default_result # Once we have the actual result from backend, can delete this one.\n",
    "        print(\"Failed\", e)\n",
    "\n",
    "def on_run_clicked_display(btn):\n",
    "    clear_output(wait=True)\n",
    "    custom_display()\n",
    "    for chart in chart_types.value:\n",
    "        topic = topics.value\n",
    "        title = \"\"\n",
    "        if topic == 'topic1: User post count':\n",
    "            print(f\"{'Username':<25} {'Nick name':<25} {'Number of posts':<25} {'Top3 tag':<50}\")\n",
    "            print(\"-\" * 100)\n",
    "            for u in result1[\"top_users\"]:\n",
    "                print(f\"{u['username']:<25} {u['nickname']:<25} posts={u['post_count']:<10} tags={u['top_tags']:<50}\")\n",
    "            hourly_json = result1['hourly']\n",
    "            df = pd.read_json(hourly_json, orient='split')\n",
    "            chart_dispatch.get(chart)(df, keyword=keyword.value)\n",
    "        elif topic == 'topic2: Cross-analysis of AI and other topics':\n",
    "            if chart == \"bar\":\n",
    "                top_n = 20\n",
    "                title = f\"Top {top_n} Most Frequent AI-Related Tags\"\n",
    "                df = pd.DataFrame(result2)\n",
    "                chart_dispatch.get(\"bar\")(df.head(20), title, keyword=keyword.value)\n",
    "            if chart == \"word cloud\":\n",
    "                print(f\"Total extracted {sum(result2['values']):,} tags, {len(result2['labels']):,} unique tags\")\n",
    "                title = \"Word Cloud of AI-Related Tags\"\n",
    "                chart_dispatch.get(\"word cloud\")(df, title, keyword=keyword.value)\n",
    "        elif topic == 'topic3: AI topic popularity analysis':\n",
    "            title = \"Daily Posts with Tag 'AI'\" \n",
    "            df = result3[\"line\"]\n",
    "            df_clipped = clipped_result(df)\n",
    "            chart_dispatch.get(chart)(df_clipped, title, keyword=keyword.value)\n",
    "            print(\"=== Top 8 Peak Dates ===\")\n",
    "            for peak in result3[\"peaks\"]:\n",
    "                print(f\"{peak['date']} — {peak['count']}\")\n",
    "        elif topic == 'topic4: Sentiment analysis across time':\n",
    "            if chart == \"pie\":\n",
    "                title = f\"Sentiment Distribution for {keyword.value}-related Posts\"\n",
    "                df = result4[\"pie\"]\n",
    "                chart_dispatch.get(chart)(df, title, keyword=keyword.value)\n",
    "            if chart == \"line\":\n",
    "                title = \"Daily Average Sentiment (Compound Score)\"\n",
    "                df = result4[\"line\"]\n",
    "                df_clipped = clipped_result(df)\n",
    "                chart_dispatch.get(chart)(df_clipped, title, keyword=keyword.value)\n",
    "        \n",
    "custom_display()\n",
    "run_btn_search.on_click(on_run_clicked_search)\n",
    "run_btn_display.on_click(on_run_clicked_display)"
   ]
  },
  {
   "cell_type": "code",
   "execution_count": null,
   "id": "f37b02c5",
   "metadata": {},
   "outputs": [],
   "source": []
  }
 ],
 "metadata": {
  "hide_input": false,
  "kernelspec": {
   "display_name": "Python 3 (ipykernel)",
   "language": "python",
   "name": "python3"
  },
  "language_info": {
   "codemirror_mode": {
    "name": "ipython",
    "version": 3
   },
   "file_extension": ".py",
   "mimetype": "text/x-python",
   "name": "python",
   "nbconvert_exporter": "python",
   "pygments_lexer": "ipython3",
   "version": "3.8.10"
  },
  "toc": {
   "base_numbering": 1,
   "nav_menu": {},
   "number_sections": true,
   "sideBar": true,
   "skip_h1_title": false,
   "title_cell": "Table of Contents",
   "title_sidebar": "Contents",
   "toc_cell": false,
   "toc_position": {
    "height": "calc(100% - 180px)",
    "left": "10px",
    "top": "150px",
    "width": "277px"
   },
   "toc_section_display": true,
   "toc_window_display": true
  },
  "varInspector": {
   "cols": {
    "lenName": 16,
    "lenType": 16,
    "lenVar": 40
   },
   "kernels_config": {
    "python": {
     "delete_cmd_postfix": "",
     "delete_cmd_prefix": "del ",
     "library": "var_list.py",
     "varRefreshCmd": "print(var_dic_list())"
    },
    "r": {
     "delete_cmd_postfix": ") ",
     "delete_cmd_prefix": "rm(",
     "library": "var_list.r",
     "varRefreshCmd": "cat(var_dic_list()) "
    }
   },
   "oldHeight": 122.844,
   "position": {
    "height": "144.844px",
    "left": "960px",
    "right": "20px",
    "top": "118px",
    "width": "350px"
   },
   "types_to_exclude": [
    "module",
    "function",
    "builtin_function_or_method",
    "instance",
    "_Feature"
   ],
   "varInspector_section_display": "block",
   "window_display": false
  }
 },
 "nbformat": 4,
 "nbformat_minor": 5
}
